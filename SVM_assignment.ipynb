{
  "nbformat": 4,
  "nbformat_minor": 0,
  "metadata": {
    "colab": {
      "name": "SVM assignment",
      "provenance": [],
      "authorship_tag": "ABX9TyP52CglTuQFvkMPV1elAXeC",
      "include_colab_link": true
    },
    "kernelspec": {
      "name": "python3",
      "display_name": "Python 3"
    }
  },
  "cells": [
    {
      "cell_type": "markdown",
      "metadata": {
        "id": "view-in-github",
        "colab_type": "text"
      },
      "source": [
        "<a href=\"https://colab.research.google.com/github/Sandeepdora/SVM/blob/master/SVM_assignment.ipynb\" target=\"_parent\"><img src=\"https://colab.research.google.com/assets/colab-badge.svg\" alt=\"Open In Colab\"/></a>"
      ]
    },
    {
      "cell_type": "code",
      "metadata": {
        "id": "1RhKPRPW_sr3",
        "colab_type": "code",
        "colab": {}
      },
      "source": [
        "#importing our packages\n",
        "import numpy as np\n",
        "import pandas as pd\n",
        "import matplotlib.pyplot as plt\n",
        "import seaborn as sb\n",
        "from sklearn.svm import SVC as svc\n",
        "from sklearn.model_selection import train_test_split as tts\n",
        "from sklearn.metrics import mean_squared_error\n",
        "from sklearn import metrics"
      ],
      "execution_count": 0,
      "outputs": []
    },
    {
      "cell_type": "code",
      "metadata": {
        "id": "_FOqqoFf_vfY",
        "colab_type": "code",
        "outputId": "03d7aa75-a954-4665-d810-e1ed1e5402fc",
        "colab": {
          "base_uri": "https://localhost:8080/",
          "height": 402
        }
      },
      "source": [
        "data = pd.read_csv(\"iris2.txt\")                    #reading the data\n",
        "data"
      ],
      "execution_count": 81,
      "outputs": [
        {
          "output_type": "execute_result",
          "data": {
            "text/html": [
              "<div>\n",
              "<style scoped>\n",
              "    .dataframe tbody tr th:only-of-type {\n",
              "        vertical-align: middle;\n",
              "    }\n",
              "\n",
              "    .dataframe tbody tr th {\n",
              "        vertical-align: top;\n",
              "    }\n",
              "\n",
              "    .dataframe thead th {\n",
              "        text-align: right;\n",
              "    }\n",
              "</style>\n",
              "<table border=\"1\" class=\"dataframe\">\n",
              "  <thead>\n",
              "    <tr style=\"text-align: right;\">\n",
              "      <th></th>\n",
              "      <th>sepallength</th>\n",
              "      <th>sepalwidth</th>\n",
              "      <th>petallength</th>\n",
              "      <th>petalwidth</th>\n",
              "      <th>spec</th>\n",
              "    </tr>\n",
              "  </thead>\n",
              "  <tbody>\n",
              "    <tr>\n",
              "      <th>0</th>\n",
              "      <td>5.1</td>\n",
              "      <td>3.5</td>\n",
              "      <td>1.4</td>\n",
              "      <td>0.2</td>\n",
              "      <td>Iris-setosa</td>\n",
              "    </tr>\n",
              "    <tr>\n",
              "      <th>1</th>\n",
              "      <td>4.9</td>\n",
              "      <td>3.0</td>\n",
              "      <td>1.4</td>\n",
              "      <td>0.2</td>\n",
              "      <td>Iris-setosa</td>\n",
              "    </tr>\n",
              "    <tr>\n",
              "      <th>2</th>\n",
              "      <td>4.7</td>\n",
              "      <td>3.2</td>\n",
              "      <td>1.3</td>\n",
              "      <td>0.2</td>\n",
              "      <td>Iris-setosa</td>\n",
              "    </tr>\n",
              "    <tr>\n",
              "      <th>3</th>\n",
              "      <td>4.6</td>\n",
              "      <td>3.1</td>\n",
              "      <td>1.5</td>\n",
              "      <td>0.2</td>\n",
              "      <td>Iris-setosa</td>\n",
              "    </tr>\n",
              "    <tr>\n",
              "      <th>4</th>\n",
              "      <td>5.0</td>\n",
              "      <td>3.6</td>\n",
              "      <td>1.4</td>\n",
              "      <td>0.2</td>\n",
              "      <td>Iris-setosa</td>\n",
              "    </tr>\n",
              "    <tr>\n",
              "      <th>...</th>\n",
              "      <td>...</td>\n",
              "      <td>...</td>\n",
              "      <td>...</td>\n",
              "      <td>...</td>\n",
              "      <td>...</td>\n",
              "    </tr>\n",
              "    <tr>\n",
              "      <th>113</th>\n",
              "      <td>5.7</td>\n",
              "      <td>2.5</td>\n",
              "      <td>5.0</td>\n",
              "      <td>2.0</td>\n",
              "      <td>Iris-virginica</td>\n",
              "    </tr>\n",
              "    <tr>\n",
              "      <th>114</th>\n",
              "      <td>5.8</td>\n",
              "      <td>2.8</td>\n",
              "      <td>5.1</td>\n",
              "      <td>2.4</td>\n",
              "      <td>Iris-virginica</td>\n",
              "    </tr>\n",
              "    <tr>\n",
              "      <th>115</th>\n",
              "      <td>6.4</td>\n",
              "      <td>3.2</td>\n",
              "      <td>5.3</td>\n",
              "      <td>2.3</td>\n",
              "      <td>Iris-virginica</td>\n",
              "    </tr>\n",
              "    <tr>\n",
              "      <th>116</th>\n",
              "      <td>6.5</td>\n",
              "      <td>3.0</td>\n",
              "      <td>5.5</td>\n",
              "      <td>1.8</td>\n",
              "      <td>Iris-virginica</td>\n",
              "    </tr>\n",
              "    <tr>\n",
              "      <th>117</th>\n",
              "      <td>7.7</td>\n",
              "      <td>3.8</td>\n",
              "      <td>6.7</td>\n",
              "      <td>2.2</td>\n",
              "      <td>Iris-virginica</td>\n",
              "    </tr>\n",
              "  </tbody>\n",
              "</table>\n",
              "<p>118 rows × 5 columns</p>\n",
              "</div>"
            ],
            "text/plain": [
              "     sepallength  sepalwidth  petallength  petalwidth            spec\n",
              "0            5.1         3.5          1.4         0.2     Iris-setosa\n",
              "1            4.9         3.0          1.4         0.2     Iris-setosa\n",
              "2            4.7         3.2          1.3         0.2     Iris-setosa\n",
              "3            4.6         3.1          1.5         0.2     Iris-setosa\n",
              "4            5.0         3.6          1.4         0.2     Iris-setosa\n",
              "..           ...         ...          ...         ...             ...\n",
              "113          5.7         2.5          5.0         2.0  Iris-virginica\n",
              "114          5.8         2.8          5.1         2.4  Iris-virginica\n",
              "115          6.4         3.2          5.3         2.3  Iris-virginica\n",
              "116          6.5         3.0          5.5         1.8  Iris-virginica\n",
              "117          7.7         3.8          6.7         2.2  Iris-virginica\n",
              "\n",
              "[118 rows x 5 columns]"
            ]
          },
          "metadata": {
            "tags": []
          },
          "execution_count": 81
        }
      ]
    },
    {
      "cell_type": "code",
      "metadata": {
        "id": "WtWojxDKBiXN",
        "colab_type": "code",
        "outputId": "4c709e0f-0d0b-4bfd-8ce9-33f3d33e010b",
        "colab": {
          "base_uri": "https://localhost:8080/",
          "height": 118
        }
      },
      "source": [
        "data.isna().any()               #checking for any na's in the data\n",
        "                                #luckyly there are no na's"
      ],
      "execution_count": 82,
      "outputs": [
        {
          "output_type": "execute_result",
          "data": {
            "text/plain": [
              "sepallength    False\n",
              "sepalwidth     False\n",
              "petallength    False\n",
              "petalwidth     False\n",
              "spec           False\n",
              "dtype: bool"
            ]
          },
          "metadata": {
            "tags": []
          },
          "execution_count": 82
        }
      ]
    },
    {
      "cell_type": "code",
      "metadata": {
        "id": "vkLR_eDr1i5b",
        "colab_type": "code",
        "colab": {}
      },
      "source": [
        "x = data[[\"sepallength\",\"sepalwidth\",\"petallength\",\"petalwidth\"]]     #Giving the first four features as features \n",
        "y = data[[\"spec\"]]                                                    #Giving the last as label"
      ],
      "execution_count": 0,
      "outputs": []
    },
    {
      "cell_type": "code",
      "metadata": {
        "id": "yVgMTT1M_6bg",
        "colab_type": "code",
        "outputId": "64666aef-1ee0-4378-a2b2-cb6d7c353169",
        "colab": {
          "base_uri": "https://localhost:8080/",
          "height": 1000
        }
      },
      "source": [
        "x_train, x_test, y_train, y_test = tts(x, y, test_size = 0.2, random_state = 42)    #random_state = 42 as per the question and test_size = 0.2\n",
        "x_train, x_test, y_train, y_test"
      ],
      "execution_count": 84,
      "outputs": [
        {
          "output_type": "execute_result",
          "data": {
            "text/plain": [
              "(     sepallength  sepalwidth  petallength  petalwidth\n",
              " 44           5.1         3.8          1.9         0.4\n",
              " 12           4.8         3.0          1.4         0.1\n",
              " 15           5.7         4.4          1.5         0.4\n",
              " 70           5.9         3.2          4.8         1.8\n",
              " 107          7.3         2.9          6.3         1.8\n",
              " ..           ...         ...          ...         ...\n",
              " 106          4.9         2.5          4.5         1.7\n",
              " 14           5.8         4.0          1.2         0.2\n",
              " 92           5.8         2.6          4.0         1.2\n",
              " 51           6.4         3.2          4.5         1.5\n",
              " 102          7.1         3.0          5.9         2.1\n",
              " \n",
              " [94 rows x 4 columns],      sepallength  sepalwidth  petallength  petalwidth\n",
              " 56           6.3         3.3          4.7         1.6\n",
              " 89           5.5         2.5          4.0         1.3\n",
              " 4            5.0         3.6          1.4         0.2\n",
              " 45           4.8         3.0          1.4         0.3\n",
              " 26           5.0         3.4          1.6         0.4\n",
              " 116          6.5         3.0          5.5         1.8\n",
              " 69           5.6         2.5          3.9         1.1\n",
              " 10           5.4         3.7          1.5         0.2\n",
              " 90           5.5         2.6          4.4         1.2\n",
              " 73           6.1         2.8          4.7         1.2\n",
              " 18           5.7         3.8          1.7         0.3\n",
              " 111          6.4         2.7          5.3         1.9\n",
              " 11           4.8         3.4          1.6         0.2\n",
              " 96           5.7         2.9          4.2         1.3\n",
              " 42           4.4         3.2          1.3         0.2\n",
              " 31           5.4         3.4          1.5         0.4\n",
              " 88           5.6         3.0          4.1         1.3\n",
              " 0            5.1         3.5          1.4         0.2\n",
              " 97           6.2         2.9          4.3         1.3\n",
              " 109          7.2         3.6          6.1         2.5\n",
              " 64           5.6         2.9          3.6         1.3\n",
              " 40           5.0         3.5          1.3         0.3\n",
              " 95           5.7         3.0          4.2         1.2\n",
              " 53           5.5         2.3          4.0         1.3,                 spec\n",
              " 44       Iris-setosa\n",
              " 12       Iris-setosa\n",
              " 15       Iris-setosa\n",
              " 70   Iris-versicolor\n",
              " 107   Iris-virginica\n",
              " ..               ...\n",
              " 106   Iris-virginica\n",
              " 14       Iris-setosa\n",
              " 92   Iris-versicolor\n",
              " 51   Iris-versicolor\n",
              " 102   Iris-virginica\n",
              " \n",
              " [94 rows x 1 columns],                 spec\n",
              " 56   Iris-versicolor\n",
              " 89   Iris-versicolor\n",
              " 4        Iris-setosa\n",
              " 45       Iris-setosa\n",
              " 26       Iris-setosa\n",
              " 116   Iris-virginica\n",
              " 69   Iris-versicolor\n",
              " 10       Iris-setosa\n",
              " 90   Iris-versicolor\n",
              " 73   Iris-versicolor\n",
              " 18       Iris-setosa\n",
              " 111   Iris-virginica\n",
              " 11       Iris-setosa\n",
              " 96   Iris-versicolor\n",
              " 42       Iris-setosa\n",
              " 31       Iris-setosa\n",
              " 88   Iris-versicolor\n",
              " 0        Iris-setosa\n",
              " 97   Iris-versicolor\n",
              " 109   Iris-virginica\n",
              " 64   Iris-versicolor\n",
              " 40       Iris-setosa\n",
              " 95   Iris-versicolor\n",
              " 53   Iris-versicolor)"
            ]
          },
          "metadata": {
            "tags": []
          },
          "execution_count": 84
        }
      ]
    },
    {
      "cell_type": "code",
      "metadata": {
        "id": "6U8WRKzP_9Zr",
        "colab_type": "code",
        "outputId": "6b328f23-49a5-496a-8925-b17c3358f180",
        "colab": {
          "base_uri": "https://localhost:8080/",
          "height": 138
        }
      },
      "source": [
        "svrm = svc()\n",
        "svrm.fit(x_train, y_train)"
      ],
      "execution_count": 85,
      "outputs": [
        {
          "output_type": "stream",
          "text": [
            "/usr/local/lib/python3.6/dist-packages/sklearn/utils/validation.py:760: DataConversionWarning: A column-vector y was passed when a 1d array was expected. Please change the shape of y to (n_samples, ), for example using ravel().\n",
            "  y = column_or_1d(y, warn=True)\n"
          ],
          "name": "stderr"
        },
        {
          "output_type": "execute_result",
          "data": {
            "text/plain": [
              "SVC(C=1.0, break_ties=False, cache_size=200, class_weight=None, coef0=0.0,\n",
              "    decision_function_shape='ovr', degree=3, gamma='scale', kernel='rbf',\n",
              "    max_iter=-1, probability=False, random_state=None, shrinking=True,\n",
              "    tol=0.001, verbose=False)"
            ]
          },
          "metadata": {
            "tags": []
          },
          "execution_count": 85
        }
      ]
    },
    {
      "cell_type": "code",
      "metadata": {
        "id": "JvNvHTrBAEhy",
        "colab_type": "code",
        "outputId": "8c28b852-b9b3-43ea-8a6a-2d6ffc755d47",
        "colab": {
          "base_uri": "https://localhost:8080/",
          "height": 134
        }
      },
      "source": [
        "y_pred = svrm.predict(x_test)                     #predicting the x_test data\n",
        "y_pred"
      ],
      "execution_count": 86,
      "outputs": [
        {
          "output_type": "execute_result",
          "data": {
            "text/plain": [
              "array(['Iris-versicolor', 'Iris-versicolor', 'Iris-setosa', 'Iris-setosa',\n",
              "       'Iris-setosa', 'Iris-virginica', 'Iris-versicolor', 'Iris-setosa',\n",
              "       'Iris-versicolor', 'Iris-versicolor', 'Iris-setosa',\n",
              "       'Iris-versicolor', 'Iris-setosa', 'Iris-versicolor', 'Iris-setosa',\n",
              "       'Iris-setosa', 'Iris-versicolor', 'Iris-setosa', 'Iris-versicolor',\n",
              "       'Iris-virginica', 'Iris-versicolor', 'Iris-setosa',\n",
              "       'Iris-versicolor', 'Iris-versicolor'], dtype=object)"
            ]
          },
          "metadata": {
            "tags": []
          },
          "execution_count": 86
        }
      ]
    },
    {
      "cell_type": "code",
      "metadata": {
        "id": "dvI_5FEJJhTC",
        "colab_type": "code",
        "outputId": "a8e4a4fb-26c7-49a7-e605-79c2c44c81af",
        "colab": {
          "base_uri": "https://localhost:8080/",
          "height": 67
        }
      },
      "source": [
        "metrics.confusion_matrix(y_test,y_pred)                   #Getting the confusion matrix"
      ],
      "execution_count": 87,
      "outputs": [
        {
          "output_type": "execute_result",
          "data": {
            "text/plain": [
              "array([[10,  0,  0],\n",
              "       [ 0, 11,  0],\n",
              "       [ 0,  1,  2]])"
            ]
          },
          "metadata": {
            "tags": []
          },
          "execution_count": 87
        }
      ]
    },
    {
      "cell_type": "markdown",
      "metadata": {
        "id": "yuXjEdKJ-Lfm",
        "colab_type": "text"
      },
      "source": [
        "The fraction part of correctly predicted to the total predictions"
      ]
    },
    {
      "cell_type": "code",
      "metadata": {
        "id": "b2i8t-WW2f6t",
        "colab_type": "code",
        "outputId": "e6d307c2-e3b9-4f3c-d52d-c5112284e83e",
        "colab": {
          "base_uri": "https://localhost:8080/",
          "height": 34
        }
      },
      "source": [
        "metrics.accuracy_score(y_test,y_pred)     #Finding out accuracy"
      ],
      "execution_count": 88,
      "outputs": [
        {
          "output_type": "execute_result",
          "data": {
            "text/plain": [
              "0.9583333333333334"
            ]
          },
          "metadata": {
            "tags": []
          },
          "execution_count": 88
        }
      ]
    },
    {
      "cell_type": "markdown",
      "metadata": {
        "id": "6VDv5tWB-Fcz",
        "colab_type": "text"
      },
      "source": [
        "Precision (P) is defined as the number of true positives (Tp) over the number of true positives plus the number of false positives (Fp).\n",
        "\n"
      ]
    },
    {
      "cell_type": "code",
      "metadata": {
        "id": "uvRIB7gJ49oZ",
        "colab_type": "code",
        "outputId": "a7310308-84e7-4cf9-d8c7-96820c8fcc37",
        "colab": {
          "base_uri": "https://localhost:8080/",
          "height": 34
        }
      },
      "source": [
        "metrics.precision_score(y_test,y_pred, average = 'weighted')      #finding the precission "
      ],
      "execution_count": 89,
      "outputs": [
        {
          "output_type": "execute_result",
          "data": {
            "text/plain": [
              "0.9618055555555555"
            ]
          },
          "metadata": {
            "tags": []
          },
          "execution_count": 89
        }
      ]
    },
    {
      "cell_type": "code",
      "metadata": {
        "id": "Tq66Re92GIR1",
        "colab_type": "code",
        "colab": {}
      },
      "source": [
        ""
      ],
      "execution_count": 0,
      "outputs": []
    }
  ]
}